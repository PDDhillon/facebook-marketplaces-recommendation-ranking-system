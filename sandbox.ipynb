{
 "cells": [
  {
   "cell_type": "code",
   "execution_count": 1,
   "metadata": {},
   "outputs": [],
   "source": [
    "from clean_tabular_data import *\n",
    "import pandas as pd\n",
    "#load dataframe with products from csv\n",
    "products_df = pd.read_csv('Products.csv',lineterminator ='\\n')  \n",
    "# drop nulls and cast pricing to numeric  \n",
    "products_df = clean_product_data(products_df)"
   ]
  },
  {
   "cell_type": "code",
   "execution_count": 2,
   "metadata": {},
   "outputs": [],
   "source": [
    "def get_encoder_and_decoder(products_df):\n",
    "        unique_categories = list(products_df[\"label\"].unique())\n",
    "        encoder = {k: v for v,k in enumerate(unique_categories)}\n",
    "        decoder = {v: k for v,k in enumerate(unique_categories)}\n",
    "        return (encoder,decoder)\n",
    "\n",
    "# create new label column\n",
    "products_df[\"label\"] = products_df[\"category\"].str.split(r\"\\/\", expand=True)[0].str.strip()\n",
    "#get encoder and decoder\n",
    "encoder,decoder = get_encoder_and_decoder(products_df)\n",
    "#save decoder to file\n",
    "f = open(\"image_decoder.pkl\",\"w\")\n",
    "f.write(str(decoder))\n",
    "f.close()"
   ]
  },
  {
   "cell_type": "code",
   "execution_count": 3,
   "metadata": {},
   "outputs": [],
   "source": [
    "images_df = pd.read_csv('Images.csv',lineterminator ='\\n')\n",
    "# merge images and products to get new label column for images\n",
    "training_df = pd.merge(images_df, products_df[['id', 'label']], left_on='product_id', right_on='id', how='left', suffixes=('','_y')).drop('id_y', axis=1).drop('product_id', axis=1)\n",
    "training_df = training_df.iloc[: , 1:]\n",
    "training_df['label'] = training_df['label'].replace(encoder)\n",
    "training_df.to_csv('training_data.csv')"
   ]
  },
  {
   "cell_type": "code",
   "execution_count": 1,
   "metadata": {},
   "outputs": [],
   "source": [
    "from clean_images import *\n",
    "# path specific to my local machine\n",
    "clean_image_data('D:/Documents/AICore/images_fb/images')"
   ]
  },
  {
   "cell_type": "code",
   "execution_count": 71,
   "metadata": {},
   "outputs": [
    {
     "name": "stderr",
     "output_type": "stream",
     "text": [
      "Using cache found in C:\\Users\\user/.cache\\torch\\hub\\NVIDIA_DeepLearningExamples_torchhub\n"
     ]
    },
    {
     "name": "stdout",
     "output_type": "stream",
     "text": [
      "8823\n",
      "1891\n",
      "1890\n",
      "2.4874212741851807\n",
      "2.5207931995391846\n",
      "2.814282178878784\n",
      "2.479762554168701\n"
     ]
    },
    {
     "ename": "KeyboardInterrupt",
     "evalue": "",
     "output_type": "error",
     "traceback": [
      "\u001b[1;31m---------------------------------------------------------------------------\u001b[0m",
      "\u001b[1;31mKeyboardInterrupt\u001b[0m                         Traceback (most recent call last)",
      "Cell \u001b[1;32mIn[71], line 71\u001b[0m\n\u001b[0;32m     68\u001b[0m test_loader \u001b[39m=\u001b[39m DataLoader(test_dataset,batch_size\u001b[39m=\u001b[39m\u001b[39m1\u001b[39m,shuffle\u001b[39m=\u001b[39m\u001b[39mTrue\u001b[39;00m)\n\u001b[0;32m     69\u001b[0m val_loader \u001b[39m=\u001b[39m DataLoader(val_dataset,batch_size\u001b[39m=\u001b[39m\u001b[39m1\u001b[39m,shuffle\u001b[39m=\u001b[39m\u001b[39mTrue\u001b[39;00m)\n\u001b[1;32m---> 71\u001b[0m train(classifer, \u001b[39m1\u001b[39;49m)\n",
      "Cell \u001b[1;32mIn[71], line 36\u001b[0m, in \u001b[0;36mtrain\u001b[1;34m(model, epochs)\u001b[0m\n\u001b[0;32m     34\u001b[0m loss \u001b[39m=\u001b[39m F\u001b[39m.\u001b[39mcross_entropy(prediction,labels)\n\u001b[0;32m     35\u001b[0m \u001b[39m# backward function calculates the gradient of the current tensor w.r.t graph leaves\u001b[39;00m\n\u001b[1;32m---> 36\u001b[0m loss\u001b[39m.\u001b[39;49mbackward()\n\u001b[0;32m     37\u001b[0m \u001b[39mprint\u001b[39m(loss\u001b[39m.\u001b[39mitem())\n\u001b[0;32m     38\u001b[0m writer\u001b[39m.\u001b[39madd_scalar(\u001b[39m'\u001b[39m\u001b[39mLoss\u001b[39m\u001b[39m'\u001b[39m, loss\u001b[39m.\u001b[39mitem(), batch_id)\n",
      "File \u001b[1;32mc:\\Users\\user\\miniconda3\\envs\\fbm\\Lib\\site-packages\\torch\\_tensor.py:487\u001b[0m, in \u001b[0;36mTensor.backward\u001b[1;34m(self, gradient, retain_graph, create_graph, inputs)\u001b[0m\n\u001b[0;32m    477\u001b[0m \u001b[39mif\u001b[39;00m has_torch_function_unary(\u001b[39mself\u001b[39m):\n\u001b[0;32m    478\u001b[0m     \u001b[39mreturn\u001b[39;00m handle_torch_function(\n\u001b[0;32m    479\u001b[0m         Tensor\u001b[39m.\u001b[39mbackward,\n\u001b[0;32m    480\u001b[0m         (\u001b[39mself\u001b[39m,),\n\u001b[1;32m   (...)\u001b[0m\n\u001b[0;32m    485\u001b[0m         inputs\u001b[39m=\u001b[39minputs,\n\u001b[0;32m    486\u001b[0m     )\n\u001b[1;32m--> 487\u001b[0m torch\u001b[39m.\u001b[39;49mautograd\u001b[39m.\u001b[39;49mbackward(\n\u001b[0;32m    488\u001b[0m     \u001b[39mself\u001b[39;49m, gradient, retain_graph, create_graph, inputs\u001b[39m=\u001b[39;49minputs\n\u001b[0;32m    489\u001b[0m )\n",
      "File \u001b[1;32mc:\\Users\\user\\miniconda3\\envs\\fbm\\Lib\\site-packages\\torch\\autograd\\__init__.py:200\u001b[0m, in \u001b[0;36mbackward\u001b[1;34m(tensors, grad_tensors, retain_graph, create_graph, grad_variables, inputs)\u001b[0m\n\u001b[0;32m    195\u001b[0m     retain_graph \u001b[39m=\u001b[39m create_graph\n\u001b[0;32m    197\u001b[0m \u001b[39m# The reason we repeat same the comment below is that\u001b[39;00m\n\u001b[0;32m    198\u001b[0m \u001b[39m# some Python versions print out the first line of a multi-line function\u001b[39;00m\n\u001b[0;32m    199\u001b[0m \u001b[39m# calls in the traceback and some print out the last line\u001b[39;00m\n\u001b[1;32m--> 200\u001b[0m Variable\u001b[39m.\u001b[39;49m_execution_engine\u001b[39m.\u001b[39;49mrun_backward(  \u001b[39m# Calls into the C++ engine to run the backward pass\u001b[39;49;00m\n\u001b[0;32m    201\u001b[0m     tensors, grad_tensors_, retain_graph, create_graph, inputs,\n\u001b[0;32m    202\u001b[0m     allow_unreachable\u001b[39m=\u001b[39;49m\u001b[39mTrue\u001b[39;49;00m, accumulate_grad\u001b[39m=\u001b[39;49m\u001b[39mTrue\u001b[39;49;00m)\n",
      "\u001b[1;31mKeyboardInterrupt\u001b[0m: "
     ]
    }
   ],
   "source": [
    "import torch\n",
    "import os\n",
    "from datetime import datetime\n",
    "from torch.utils.data import DataLoader, random_split\n",
    "from FBMClassifier import FBMClassifier\n",
    "from FBMDataset import FBMDataset\n",
    "import torch.nn.functional as F\n",
    "from torch.optim import SGD\n",
    "from torch.utils.tensorboard import SummaryWriter\n",
    "\n",
    "\n",
    "def create_model_dir_path():\n",
    "    parent_dir = 'model_evaluation'\n",
    "    current_datetime = datetime.now().strftime('%y%m%d%H%M%S')\n",
    "    child_dir = 'weights'\n",
    "    path = os.path.join(os.getcwd(), parent_dir, current_datetime, child_dir)\n",
    "    return path\n",
    "\n",
    "def train(model,epochs):    \n",
    "    writer = SummaryWriter()\n",
    "    batch_id = 0\n",
    "\n",
    "    path = create_model_dir_path() \n",
    "    os.makedirs(path)\n",
    "\n",
    "    for epoch in range(epochs):   \n",
    "        model.train(True)     \n",
    "        for batch in train_loader:\n",
    "            # get features and labels from the batch\n",
    "            features,labels = batch\n",
    "            # make a prediction\n",
    "            prediction = model(features)\n",
    "            # calculate loss\n",
    "            criterion = F.cross_entropy(prediction,labels)\n",
    "            # backward function calculates the gradient of the current tensor w.r.t graph leaves\n",
    "            criterion.backward()\n",
    "            print(criterion.item())\n",
    "            writer.add_scalar('Loss', criterion.item(), batch_id)\n",
    "            batch_id += 1\n",
    "\n",
    "        \n",
    "        # Set the model to evaluation mode\n",
    "        model.eval()\n",
    "        running_vloss = 0.0\n",
    "        \n",
    "        with torch.no_grad():\n",
    "            for i, vdata in enumerate(val_loader):\n",
    "                vinputs, vlabels = vdata\n",
    "                voutputs = model(vinputs)\n",
    "                vloss = F.cross_entropy(voutputs, vlabels)\n",
    "                running_vloss += vloss\n",
    "\n",
    "        avg_vloss = running_vloss / (i + 1)\n",
    "        print(f'Average Loss: {avg_vloss}')\n",
    "        torch.save(model.state_dict(), path)\n",
    "\n",
    "#Steps for transfer learning: get pre trained model, change architecture to fit our problem, fine tune for our problem\n",
    "classifer = FBMClassifier()\n",
    "dataset = FBMDataset(\"training_data.csv\",\"../images_fb/images/cleaned_images\")\n",
    "\n",
    "#obtain the list of targets\n",
    "train_dataset,test_dataset,val_dataset = random_split(dataset, [0.7,0.15,0.15])\n",
    "print(len(train_dataset))\n",
    "print(len(test_dataset))\n",
    "print(len(val_dataset))\n",
    "\n",
    "train_loader = DataLoader(train_dataset,batch_size=1,shuffle=True)\n",
    "test_loader = DataLoader(test_dataset,batch_size=1,shuffle=True)\n",
    "val_loader = DataLoader(val_dataset,batch_size=1,shuffle=True)\n",
    "\n",
    "train(classifer, 1)\n"
   ]
  }
 ],
 "metadata": {
  "kernelspec": {
   "display_name": "fbm",
   "language": "python",
   "name": "python3"
  },
  "language_info": {
   "codemirror_mode": {
    "name": "ipython",
    "version": 3
   },
   "file_extension": ".py",
   "mimetype": "text/x-python",
   "name": "python",
   "nbconvert_exporter": "python",
   "pygments_lexer": "ipython3",
   "version": "3.11.4"
  },
  "orig_nbformat": 4
 },
 "nbformat": 4,
 "nbformat_minor": 2
}
