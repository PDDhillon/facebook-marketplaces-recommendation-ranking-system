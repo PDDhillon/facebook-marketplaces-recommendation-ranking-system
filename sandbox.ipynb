{
 "cells": [
  {
   "cell_type": "code",
   "execution_count": null,
   "metadata": {},
   "outputs": [],
   "source": [
    "from clean_tabular_data import *\n",
    "import pandas as pd\n",
    "#load dataframe with products from csv\n",
    "products_df = pd.read_csv('data/Products.csv',lineterminator ='\\n')  \n",
    "# drop nulls and cast pricing to numeric  \n",
    "products_df = clean_product_data(products_df)"
   ]
  },
  {
   "cell_type": "code",
   "execution_count": null,
   "metadata": {},
   "outputs": [],
   "source": [
    "import json\n",
    "def get_encoder_and_decoder(products_df):\n",
    "        unique_categories = list(products_df[\"label\"].unique())\n",
    "        encoder = {k: v for v,k in enumerate(unique_categories)}\n",
    "        decoder = {v: k for v,k in enumerate(unique_categories)}\n",
    "        return (encoder,decoder)\n",
    "\n",
    "# create new label column\n",
    "products_df[\"label\"] = products_df[\"category\"].str.split(r\"\\/\", expand=True)[0].str.strip()\n",
    "#get encoder and decoder\n",
    "encoder,decoder = get_encoder_and_decoder(products_df)\n",
    "#save decoder to file\n",
    "with open(\"image_decoder.pkl\", \"w\") as outfile:\n",
    "    json.dump(decoder, outfile)"
   ]
  },
  {
   "cell_type": "code",
   "execution_count": null,
   "metadata": {},
   "outputs": [],
   "source": [
    "images_df = pd.read_csv('data/Images.csv',lineterminator ='\\n')\n",
    "# merge images and products to get new label column for images\n",
    "training_df = pd.merge(images_df, products_df[['id', 'label']], left_on='product_id', right_on='id', how='left', suffixes=('','_y')).drop('id_y', axis=1).drop('product_id', axis=1)\n",
    "training_df = training_df.iloc[: , 1:]\n",
    "training_df['label'] = training_df['label'].replace(encoder)\n",
    "training_df.to_csv('data/training_data.csv')"
   ]
  },
  {
   "cell_type": "code",
   "execution_count": null,
   "metadata": {},
   "outputs": [],
   "source": [
    "from clean_images import *\n",
    "# path specific to my local machine\n",
    "clean_image_data('D:/Documents/AICore/images_fb/images')"
   ]
  },
  {
   "cell_type": "code",
   "execution_count": null,
   "metadata": {},
   "outputs": [],
   "source": [
    "from FBMTrainer import FBMTrainer\n",
    "from ray import tune\n",
    "from ray.air import session,Checkpoint\n",
    "\n",
    "trainer = FBMTrainer()\n",
    "config = {        \n",
    "        \"lr\": tune.loguniform(1e-2,1e-1),\n",
    "        \"batch_size\": tune.choice([8]),\n",
    "        \"hyperparameter_tuning_on\": False,\n",
    "        \"is_feature_extraction_model\": True\n",
    "    }\n",
    "tuner = tune.Tuner(\n",
    "        tune.with_resources(\n",
    "            tune.with_parameters(trainer.train_fbm),\n",
    "             resources=tune.PlacementGroupFactory([{\"CPU\": 2,\"GPU\": 1}])\n",
    "        ),\n",
    "        tune_config=tune.TuneConfig(\n",
    "            metric=\"loss\",\n",
    "            mode=\"min\",\n",
    "            num_samples=1,\n",
    "        ),\n",
    "        param_space=config\n",
    "    )\n",
    "\n",
    "results = tuner.fit()\n",
    "best_result = results.get_best_result(\"loss\", \"min\")\n",
    "print(\"Best trial config: {}\".format(best_result.config))\n",
    "print(\"Best trial final validation loss: {}\".format(\n",
    "    best_result.metrics[\"loss\"]))\n",
    "print(\"Best trial final validation accuracy: {}\".format(\n",
    "    best_result.metrics[\"accuracy\"]))\n"
   ]
  },
  {
   "cell_type": "code",
   "execution_count": null,
   "metadata": {},
   "outputs": [],
   "source": [
    "from image_processor import ImageProcessor\n",
    "from FBMClassifier import FBMClassifier\n",
    "import pandas as pd\n",
    "import os\n",
    "from PIL import Image\n",
    "import torch\n",
    "import json\n",
    "from json_numpy import default\n",
    "    \n",
    "base_dir = \"D:/Documents/AICore/facebook-marketplaces-recommendation-ranking-system\"\n",
    "images = pd.read_csv(os.path.join(base_dir,\"data/training_data.csv\"))\n",
    "    \n",
    "# get image_model.pt, load into FBMClassifier\n",
    "feature_extractor = FBMClassifier(True)\n",
    "image_processor = ImageProcessor()\n",
    "state = torch.load(\"final_model/image_model.pt\")\n",
    "feature_extractor.load_state_dict(state)\n",
    "\n",
    "# run through all data and create new json\n",
    "result = {}\n",
    "for index in range(len(images)):\n",
    "    # for each label (image name), assign output of the model\n",
    "    image_uid = images.loc[index, 'id']\n",
    "    img_ext = image_uid + '.jpg'\n",
    "    img_path = os.path.join(os.path.join(base_dir,\"cleaned_images\", img_ext))\n",
    "    image = Image.open(img_path)     \n",
    "\n",
    "    feature = image_processor.process(image)\n",
    "    # get prediction from feature extraction model, using unsqueeze to add a placeholder for batch size\n",
    "    image_embedding = feature_extractor(feature.unsqueeze(0))\n",
    "    # convert the tensor prediction to a numpy array\n",
    "    image_embedding = image_embedding.detach().numpy()\n",
    "    result[image_uid] = image_embedding\n",
    "\n",
    "# save as json file \n",
    "with open(\"model_information/image_embeddings.json\", \"w\") as outfile:\n",
    "    json.dump(result, outfile, default=default)"
   ]
  },
  {
   "cell_type": "code",
   "execution_count": null,
   "metadata": {},
   "outputs": [],
   "source": [
    "import faiss                   # make faiss available\n",
    "from json_numpy import object_hook\n",
    "import json\n",
    "import pickle\n",
    "\n",
    "f = open(\"model_information/image_embeddings.json\") \n",
    "data = json.load(f, object_hook=object_hook)\n",
    "\n",
    "index = faiss.IndexFlatL2(1000)   # build the index\n",
    "print(index.is_trained)\n",
    "\n",
    "for k,v in data.items():    \n",
    "    index.add(faiss.normalize_L2(v))                  # add vectors to the index\n",
    "\n",
    "chunk = faiss.serialize_index(index)\n",
    "with open(\"model_information/index.pkl\", \"wb\") as f:\n",
    "    pickle.dump(chunk, f)    \n",
    "print(index.ntotal)"
   ]
  }
 ],
 "metadata": {
  "kernelspec": {
   "display_name": "fbm",
   "language": "python",
   "name": "python3"
  },
  "language_info": {
   "codemirror_mode": {
    "name": "ipython",
    "version": 3
   },
   "file_extension": ".py",
   "mimetype": "text/x-python",
   "name": "python",
   "nbconvert_exporter": "python",
   "pygments_lexer": "ipython3",
   "version": "3.10.12"
  },
  "orig_nbformat": 4
 },
 "nbformat": 4,
 "nbformat_minor": 2
}
