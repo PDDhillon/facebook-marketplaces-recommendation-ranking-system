{
 "cells": [
  {
   "cell_type": "code",
   "execution_count": 1,
   "metadata": {},
   "outputs": [],
   "source": [
    "from clean_tabular_data import *\n",
    "import pandas as pd\n",
    "\n",
    "products_df = pd.read_csv('Products.csv',lineterminator ='\\n')  \n",
    "# drop nulls and cast pricing to numeric  \n",
    "products_df = clean_product_data(products_df)"
   ]
  },
  {
   "cell_type": "code",
   "execution_count": 2,
   "metadata": {},
   "outputs": [
    {
     "ename": "TypeError",
     "evalue": "get_encoder_and_decoder() missing 1 required positional argument: 'products_df'",
     "output_type": "error",
     "traceback": [
      "\u001b[1;31m---------------------------------------------------------------------------\u001b[0m",
      "\u001b[1;31mTypeError\u001b[0m                                 Traceback (most recent call last)",
      "Cell \u001b[1;32mIn[2], line 10\u001b[0m\n\u001b[0;32m      8\u001b[0m products_df[\u001b[39m\"\u001b[39m\u001b[39mlabel\u001b[39m\u001b[39m\"\u001b[39m] \u001b[39m=\u001b[39m products_df[\u001b[39m\"\u001b[39m\u001b[39mcategory\u001b[39m\u001b[39m\"\u001b[39m]\u001b[39m.\u001b[39mstr\u001b[39m.\u001b[39msplit(\u001b[39mr\u001b[39m\u001b[39m\"\u001b[39m\u001b[39m\\\u001b[39m\u001b[39m/\u001b[39m\u001b[39m\"\u001b[39m, expand\u001b[39m=\u001b[39m\u001b[39mTrue\u001b[39;00m)[\u001b[39m0\u001b[39m]\u001b[39m.\u001b[39mstr\u001b[39m.\u001b[39mstrip()\n\u001b[0;32m      9\u001b[0m \u001b[39m#get encoder and decoder\u001b[39;00m\n\u001b[1;32m---> 10\u001b[0m encoder,decoder \u001b[39m=\u001b[39m get_encoder_and_decoder(products_df)\n",
      "\u001b[1;31mTypeError\u001b[0m: get_encoder_and_decoder() missing 1 required positional argument: 'products_df'"
     ]
    }
   ],
   "source": [
    "def get_encoder_and_decoder(products_df):\n",
    "        unique_categories = list(products_df[\"label\"].unique())\n",
    "        encoder = {k: v for v,k in enumerate(unique_categories)}\n",
    "        decoder = {v: k for v,k in enumerate(unique_categories)}\n",
    "        return (encoder,decoder)\n",
    "\n",
    "# create new label column\n",
    "products_df[\"label\"] = products_df[\"category\"].str.split(r\"\\/\", expand=True)[0].str.strip()\n",
    "#get encoder and decoder\n",
    "encoder,decoder = get_encoder_and_decoder(products_df)"
   ]
  },
  {
   "cell_type": "code",
   "execution_count": 1,
   "metadata": {},
   "outputs": [
    {
     "ename": "NameError",
     "evalue": "name 'pd' is not defined",
     "output_type": "error",
     "traceback": [
      "\u001b[1;31m---------------------------------------------------------------------------\u001b[0m",
      "\u001b[1;31mNameError\u001b[0m                                 Traceback (most recent call last)",
      "Cell \u001b[1;32mIn[1], line 1\u001b[0m\n\u001b[1;32m----> 1\u001b[0m images_df \u001b[39m=\u001b[39m pd\u001b[39m.\u001b[39mread_csv(\u001b[39m'\u001b[39m\u001b[39mImages.csv\u001b[39m\u001b[39m'\u001b[39m,lineterminator \u001b[39m=\u001b[39m\u001b[39m'\u001b[39m\u001b[39m\\n\u001b[39;00m\u001b[39m'\u001b[39m)\n\u001b[0;32m      2\u001b[0m \u001b[39m# merge images and products to get new label column for images\u001b[39;00m\n\u001b[0;32m      3\u001b[0m training_df \u001b[39m=\u001b[39m pd\u001b[39m.\u001b[39mmerge(images_df, products_df[[\u001b[39m'\u001b[39m\u001b[39mid\u001b[39m\u001b[39m'\u001b[39m, \u001b[39m'\u001b[39m\u001b[39mlabel\u001b[39m\u001b[39m'\u001b[39m]], left_on\u001b[39m=\u001b[39m\u001b[39m'\u001b[39m\u001b[39mproduct_id\u001b[39m\u001b[39m'\u001b[39m, right_on\u001b[39m=\u001b[39m\u001b[39m'\u001b[39m\u001b[39mid\u001b[39m\u001b[39m'\u001b[39m, how\u001b[39m=\u001b[39m\u001b[39m'\u001b[39m\u001b[39mleft\u001b[39m\u001b[39m'\u001b[39m, suffixes\u001b[39m=\u001b[39m(\u001b[39m'\u001b[39m\u001b[39m'\u001b[39m,\u001b[39m'\u001b[39m\u001b[39m_y\u001b[39m\u001b[39m'\u001b[39m))\u001b[39m.\u001b[39mdrop(\u001b[39m'\u001b[39m\u001b[39mid_y\u001b[39m\u001b[39m'\u001b[39m, axis\u001b[39m=\u001b[39m\u001b[39m1\u001b[39m)\n",
      "\u001b[1;31mNameError\u001b[0m: name 'pd' is not defined"
     ]
    }
   ],
   "source": [
    "images_df = pd.read_csv('Images.csv',lineterminator ='\\n')\n",
    "# merge images and products to get new label column for images\n",
    "training_df = pd.merge(images_df, products_df[['id', 'label']], left_on='product_id', right_on='id', how='left', suffixes=('','_y')).drop('id_y', axis=1)\n",
    "training_df.to_csv(\"training_data.csv\")"
   ]
  },
  {
   "cell_type": "code",
   "execution_count": 1,
   "metadata": {},
   "outputs": [],
   "source": [
    "from clean_images import *\n",
    "# path specific to my local machine\n",
    "clean_image_data('D:/Documents/AICore/images_fb/images')"
   ]
  }
 ],
 "metadata": {
  "kernelspec": {
   "display_name": "fbm",
   "language": "python",
   "name": "python3"
  },
  "language_info": {
   "codemirror_mode": {
    "name": "ipython",
    "version": 3
   },
   "file_extension": ".py",
   "mimetype": "text/x-python",
   "name": "python",
   "nbconvert_exporter": "python",
   "pygments_lexer": "ipython3",
   "version": "3.11.4"
  },
  "orig_nbformat": 4
 },
 "nbformat": 4,
 "nbformat_minor": 2
}
